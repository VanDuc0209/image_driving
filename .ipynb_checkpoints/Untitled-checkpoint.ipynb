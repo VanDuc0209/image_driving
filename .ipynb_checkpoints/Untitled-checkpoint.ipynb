{
 "cells": [
  {
   "cell_type": "code",
   "execution_count": 3,
   "metadata": {},
   "outputs": [],
   "source": [
    "import pandas as pd\n",
    "data = pd.read_csv('./driving_log.csv', header=None)"
   ]
  },
  {
   "cell_type": "code",
   "execution_count": 4,
   "metadata": {},
   "outputs": [
    {
     "data": {
      "text/html": [
       "<div>\n",
       "<style scoped>\n",
       "    .dataframe tbody tr th:only-of-type {\n",
       "        vertical-align: middle;\n",
       "    }\n",
       "\n",
       "    .dataframe tbody tr th {\n",
       "        vertical-align: top;\n",
       "    }\n",
       "\n",
       "    .dataframe thead th {\n",
       "        text-align: right;\n",
       "    }\n",
       "</style>\n",
       "<table border=\"1\" class=\"dataframe\">\n",
       "  <thead>\n",
       "    <tr style=\"text-align: right;\">\n",
       "      <th></th>\n",
       "      <th>0</th>\n",
       "      <th>1</th>\n",
       "      <th>2</th>\n",
       "      <th>3</th>\n",
       "      <th>4</th>\n",
       "      <th>5</th>\n",
       "      <th>6</th>\n",
       "    </tr>\n",
       "  </thead>\n",
       "  <tbody>\n",
       "    <tr>\n",
       "      <th>0</th>\n",
       "      <td>Desktop\\track2data\\IMG\\center_2019_04_02_18_05...</td>\n",
       "      <td>Desktop\\track2data\\IMG\\left_2019_04_02_18_05_3...</td>\n",
       "      <td>Desktop\\track2data\\IMG\\right_2019_04_02_18_05_...</td>\n",
       "      <td>0.0</td>\n",
       "      <td>0.0</td>\n",
       "      <td>0.0</td>\n",
       "      <td>0.000275</td>\n",
       "    </tr>\n",
       "    <tr>\n",
       "      <th>1</th>\n",
       "      <td>Desktop\\track2data\\IMG\\center_2019_04_02_18_05...</td>\n",
       "      <td>Desktop\\track2data\\IMG\\left_2019_04_02_18_05_3...</td>\n",
       "      <td>Desktop\\track2data\\IMG\\right_2019_04_02_18_05_...</td>\n",
       "      <td>0.0</td>\n",
       "      <td>0.0</td>\n",
       "      <td>0.0</td>\n",
       "      <td>0.000280</td>\n",
       "    </tr>\n",
       "    <tr>\n",
       "      <th>2</th>\n",
       "      <td>Desktop\\track2data\\IMG\\center_2019_04_02_18_05...</td>\n",
       "      <td>Desktop\\track2data\\IMG\\left_2019_04_02_18_05_3...</td>\n",
       "      <td>Desktop\\track2data\\IMG\\right_2019_04_02_18_05_...</td>\n",
       "      <td>0.0</td>\n",
       "      <td>0.0</td>\n",
       "      <td>0.0</td>\n",
       "      <td>0.000277</td>\n",
       "    </tr>\n",
       "    <tr>\n",
       "      <th>3</th>\n",
       "      <td>Desktop\\track2data\\IMG\\center_2019_04_02_18_05...</td>\n",
       "      <td>Desktop\\track2data\\IMG\\left_2019_04_02_18_05_3...</td>\n",
       "      <td>Desktop\\track2data\\IMG\\right_2019_04_02_18_05_...</td>\n",
       "      <td>0.0</td>\n",
       "      <td>0.0</td>\n",
       "      <td>0.0</td>\n",
       "      <td>0.000046</td>\n",
       "    </tr>\n",
       "    <tr>\n",
       "      <th>4</th>\n",
       "      <td>Desktop\\track2data\\IMG\\center_2019_04_02_18_05...</td>\n",
       "      <td>Desktop\\track2data\\IMG\\left_2019_04_02_18_05_3...</td>\n",
       "      <td>Desktop\\track2data\\IMG\\right_2019_04_02_18_05_...</td>\n",
       "      <td>0.0</td>\n",
       "      <td>0.0</td>\n",
       "      <td>0.0</td>\n",
       "      <td>0.000060</td>\n",
       "    </tr>\n",
       "  </tbody>\n",
       "</table>\n",
       "</div>"
      ],
      "text/plain": [
       "                                                   0  \\\n",
       "0  Desktop\\track2data\\IMG\\center_2019_04_02_18_05...   \n",
       "1  Desktop\\track2data\\IMG\\center_2019_04_02_18_05...   \n",
       "2  Desktop\\track2data\\IMG\\center_2019_04_02_18_05...   \n",
       "3  Desktop\\track2data\\IMG\\center_2019_04_02_18_05...   \n",
       "4  Desktop\\track2data\\IMG\\center_2019_04_02_18_05...   \n",
       "\n",
       "                                                   1  \\\n",
       "0  Desktop\\track2data\\IMG\\left_2019_04_02_18_05_3...   \n",
       "1  Desktop\\track2data\\IMG\\left_2019_04_02_18_05_3...   \n",
       "2  Desktop\\track2data\\IMG\\left_2019_04_02_18_05_3...   \n",
       "3  Desktop\\track2data\\IMG\\left_2019_04_02_18_05_3...   \n",
       "4  Desktop\\track2data\\IMG\\left_2019_04_02_18_05_3...   \n",
       "\n",
       "                                                   2    3    4    5         6  \n",
       "0  Desktop\\track2data\\IMG\\right_2019_04_02_18_05_...  0.0  0.0  0.0  0.000275  \n",
       "1  Desktop\\track2data\\IMG\\right_2019_04_02_18_05_...  0.0  0.0  0.0  0.000280  \n",
       "2  Desktop\\track2data\\IMG\\right_2019_04_02_18_05_...  0.0  0.0  0.0  0.000277  \n",
       "3  Desktop\\track2data\\IMG\\right_2019_04_02_18_05_...  0.0  0.0  0.0  0.000046  \n",
       "4  Desktop\\track2data\\IMG\\right_2019_04_02_18_05_...  0.0  0.0  0.0  0.000060  "
      ]
     },
     "execution_count": 4,
     "metadata": {},
     "output_type": "execute_result"
    }
   ],
   "source": [
    "data.head()"
   ]
  },
  {
   "cell_type": "code",
   "execution_count": 7,
   "metadata": {},
   "outputs": [
    {
     "data": {
      "text/plain": [
       "0        Desktop\\track2data\\IMG\\center_2019_04_02_18_05...\n",
       "1        Desktop\\track2data\\IMG\\center_2019_04_02_18_05...\n",
       "2        Desktop\\track2data\\IMG\\center_2019_04_02_18_05...\n",
       "3        Desktop\\track2data\\IMG\\center_2019_04_02_18_05...\n",
       "4        Desktop\\track2data\\IMG\\center_2019_04_02_18_05...\n",
       "5        Desktop\\track2data\\IMG\\center_2019_04_02_18_05...\n",
       "6        Desktop\\track2data\\IMG\\center_2019_04_02_18_05...\n",
       "7        Desktop\\track2data\\IMG\\center_2019_04_02_18_05...\n",
       "8        Desktop\\track2data\\IMG\\center_2019_04_02_18_05...\n",
       "9        Desktop\\track2data\\IMG\\center_2019_04_02_18_05...\n",
       "10       Desktop\\track2data\\IMG\\center_2019_04_02_18_05...\n",
       "11       Desktop\\track2data\\IMG\\center_2019_04_02_18_05...\n",
       "12       Desktop\\track2data\\IMG\\center_2019_04_02_18_05...\n",
       "13       Desktop\\track2data\\IMG\\center_2019_04_02_18_05...\n",
       "14       Desktop\\track2data\\IMG\\center_2019_04_02_18_05...\n",
       "15       Desktop\\track2data\\IMG\\center_2019_04_02_18_05...\n",
       "16       Desktop\\track2data\\IMG\\center_2019_04_02_18_05...\n",
       "17       Desktop\\track2data\\IMG\\center_2019_04_02_18_05...\n",
       "18       Desktop\\track2data\\IMG\\center_2019_04_02_18_05...\n",
       "19       Desktop\\track2data\\IMG\\center_2019_04_02_18_05...\n",
       "20       Desktop\\track2data\\IMG\\center_2019_04_02_18_05...\n",
       "21       Desktop\\track2data\\IMG\\center_2019_04_02_18_05...\n",
       "22       Desktop\\track2data\\IMG\\center_2019_04_02_18_05...\n",
       "23       Desktop\\track2data\\IMG\\center_2019_04_02_18_05...\n",
       "24       Desktop\\track2data\\IMG\\center_2019_04_02_18_05...\n",
       "25       Desktop\\track2data\\IMG\\center_2019_04_02_18_05...\n",
       "26       Desktop\\track2data\\IMG\\center_2019_04_02_18_05...\n",
       "27       Desktop\\track2data\\IMG\\center_2019_04_02_18_05...\n",
       "28       Desktop\\track2data\\IMG\\center_2019_04_02_18_05...\n",
       "29       Desktop\\track2data\\IMG\\center_2019_04_02_18_05...\n",
       "                               ...                        \n",
       "21798    Desktop\\track2data\\IMG\\center_2019_04_02_18_31...\n",
       "21799    Desktop\\track2data\\IMG\\center_2019_04_02_18_31...\n",
       "21800    Desktop\\track2data\\IMG\\center_2019_04_02_18_31...\n",
       "21801    Desktop\\track2data\\IMG\\center_2019_04_02_18_31...\n",
       "21802    Desktop\\track2data\\IMG\\center_2019_04_02_18_31...\n",
       "21803    Desktop\\track2data\\IMG\\center_2019_04_02_18_31...\n",
       "21804    Desktop\\track2data\\IMG\\center_2019_04_02_18_31...\n",
       "21805    Desktop\\track2data\\IMG\\center_2019_04_02_18_31...\n",
       "21806    Desktop\\track2data\\IMG\\center_2019_04_02_18_31...\n",
       "21807    Desktop\\track2data\\IMG\\center_2019_04_02_18_31...\n",
       "21808    Desktop\\track2data\\IMG\\center_2019_04_02_18_31...\n",
       "21809    Desktop\\track2data\\IMG\\center_2019_04_02_18_31...\n",
       "21810    Desktop\\track2data\\IMG\\center_2019_04_02_18_31...\n",
       "21811    Desktop\\track2data\\IMG\\center_2019_04_02_18_31...\n",
       "21812    Desktop\\track2data\\IMG\\center_2019_04_02_18_31...\n",
       "21813    Desktop\\track2data\\IMG\\center_2019_04_02_18_31...\n",
       "21814    Desktop\\track2data\\IMG\\center_2019_04_02_18_31...\n",
       "21815    Desktop\\track2data\\IMG\\center_2019_04_02_18_31...\n",
       "21816    Desktop\\track2data\\IMG\\center_2019_04_02_18_31...\n",
       "21817    Desktop\\track2data\\IMG\\center_2019_04_02_18_31...\n",
       "21818    Desktop\\track2data\\IMG\\center_2019_04_02_18_31...\n",
       "21819    Desktop\\track2data\\IMG\\center_2019_04_02_18_31...\n",
       "21820    Desktop\\track2data\\IMG\\center_2019_04_02_18_31...\n",
       "21821    Desktop\\track2data\\IMG\\center_2019_04_02_18_31...\n",
       "21822    Desktop\\track2data\\IMG\\center_2019_04_02_18_31...\n",
       "21823    Desktop\\track2data\\IMG\\center_2019_04_02_18_31...\n",
       "21824    Desktop\\track2data\\IMG\\center_2019_04_02_18_31...\n",
       "21825    Desktop\\track2data\\IMG\\center_2019_04_02_18_31...\n",
       "21826    Desktop\\track2data\\IMG\\center_2019_04_02_18_31...\n",
       "21827    Desktop\\track2data\\IMG\\center_2019_04_02_18_31...\n",
       "Name: 0, Length: 21828, dtype: object"
      ]
     },
     "execution_count": 7,
     "metadata": {},
     "output_type": "execute_result"
    }
   ],
   "source": [
    "data[0]"
   ]
  },
  {
   "cell_type": "code",
   "execution_count": 13,
   "metadata": {},
   "outputs": [
    {
     "ename": "IndexError",
     "evalue": "list index out of range",
     "output_type": "error",
     "traceback": [
      "\u001b[0;31m---------------------------------------------------------------------------\u001b[0m",
      "\u001b[0;31mIndexError\u001b[0m                                Traceback (most recent call last)",
      "\u001b[0;32m<ipython-input-13-5a028cbd4446>\u001b[0m in \u001b[0;36m<module>\u001b[0;34m\u001b[0m\n\u001b[1;32m      1\u001b[0m \u001b[0;32mfor\u001b[0m \u001b[0mi\u001b[0m \u001b[0;32min\u001b[0m \u001b[0mrange\u001b[0m\u001b[0;34m(\u001b[0m\u001b[0mlen\u001b[0m\u001b[0;34m(\u001b[0m\u001b[0mdata\u001b[0m\u001b[0;34m[\u001b[0m\u001b[0;36m0\u001b[0m\u001b[0;34m]\u001b[0m\u001b[0;34m)\u001b[0m\u001b[0;34m)\u001b[0m\u001b[0;34m:\u001b[0m\u001b[0;34m\u001b[0m\u001b[0;34m\u001b[0m\u001b[0m\n\u001b[1;32m      2\u001b[0m     \u001b[0mdemo\u001b[0m \u001b[0;34m=\u001b[0m \u001b[0mdata\u001b[0m\u001b[0;34m[\u001b[0m\u001b[0;36m0\u001b[0m\u001b[0;34m]\u001b[0m\u001b[0;34m[\u001b[0m\u001b[0mi\u001b[0m\u001b[0;34m]\u001b[0m\u001b[0;34m.\u001b[0m\u001b[0msplit\u001b[0m\u001b[0;34m(\u001b[0m\u001b[0;34m\"\\\\\"\u001b[0m\u001b[0;34m)\u001b[0m\u001b[0;34m\u001b[0m\u001b[0;34m\u001b[0m\u001b[0m\n\u001b[0;32m----> 3\u001b[0;31m     \u001b[0mdemo1\u001b[0m \u001b[0;34m=\u001b[0m \u001b[0mdemo\u001b[0m\u001b[0;34m[\u001b[0m\u001b[0;34m-\u001b[0m\u001b[0;36m2\u001b[0m\u001b[0;34m]\u001b[0m \u001b[0;34m+\u001b[0m \u001b[0;34m\"/\"\u001b[0m \u001b[0;34m+\u001b[0m \u001b[0mdemo\u001b[0m\u001b[0;34m[\u001b[0m\u001b[0;34m-\u001b[0m\u001b[0;36m1\u001b[0m\u001b[0;34m]\u001b[0m\u001b[0;34m\u001b[0m\u001b[0;34m\u001b[0m\u001b[0m\n\u001b[0m\u001b[1;32m      4\u001b[0m \u001b[0;34m\u001b[0m\u001b[0m\n\u001b[1;32m      5\u001b[0m \u001b[0;34m\u001b[0m\u001b[0m\n",
      "\u001b[0;31mIndexError\u001b[0m: list index out of range"
     ]
    }
   ],
   "source": [
    "for i in range(len(data[0])):\n",
    "    demo = data[0][i].split(\"\\\\\")\n",
    "#     demo1 = demo[-2] + \"/\" + demo[-1]\n",
    "    \n",
    "                            "
   ]
  },
  {
   "cell_type": "code",
   "execution_count": null,
   "metadata": {},
   "outputs": [],
   "source": []
  },
  {
   "cell_type": "code",
   "execution_count": null,
   "metadata": {},
   "outputs": [],
   "source": []
  },
  {
   "cell_type": "code",
   "execution_count": null,
   "metadata": {},
   "outputs": [],
   "source": []
  },
  {
   "cell_type": "code",
   "execution_count": null,
   "metadata": {},
   "outputs": [],
   "source": []
  },
  {
   "cell_type": "code",
   "execution_count": null,
   "metadata": {},
   "outputs": [],
   "source": []
  },
  {
   "cell_type": "code",
   "execution_count": null,
   "metadata": {},
   "outputs": [],
   "source": []
  }
 ],
 "metadata": {
  "kernelspec": {
   "display_name": "Python 3",
   "language": "python",
   "name": "python3"
  },
  "language_info": {
   "codemirror_mode": {
    "name": "ipython",
    "version": 3
   },
   "file_extension": ".py",
   "mimetype": "text/x-python",
   "name": "python",
   "nbconvert_exporter": "python",
   "pygments_lexer": "ipython3",
   "version": "3.7.3"
  }
 },
 "nbformat": 4,
 "nbformat_minor": 2
}
